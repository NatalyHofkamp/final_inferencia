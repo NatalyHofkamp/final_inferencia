{
 "cells": [
  {
   "cell_type": "code",
   "execution_count": 6,
   "metadata": {},
   "outputs": [],
   "source": [
    "from math import *\n",
    "import numpy as np\n",
    "import matplotlib.pyplot as plt\n",
    "from scipy.stats import norm"
   ]
  },
  {
   "cell_type": "markdown",
   "metadata": {},
   "source": [
    "# EJERCICIOS\n",
    "### EJERCICIO 1\n",
    "Estimar la entropíade una distribución uniforme U(-3, 3) y de una distribución gaussiana N(0, 1)\n"
   ]
  },
  {
   "cell_type": "code",
   "execution_count": 7,
   "metadata": {},
   "outputs": [
    {
     "data": {
      "image/png": "[encoded data removed]",
      "text/plain": [
       "<Figure size 432x288 with 1 Axes>"
      ]
     },
     "metadata": {
      "needs_background": "light"
     },
     "output_type": "display_data"
    }
   ],
   "source": [
    "#crear muestras y histograma\n",
    "# N(0, 1)\n",
    "muestra_normal = np.random.normal(loc=0, scale=1, size=1000)\n",
    "# U(-3, 3)\n",
    "muestra_uniforme = np.random.uniform(low=-3, high=3, size=1000)\n",
    "\n",
    "\n",
    "plt.hist(muestra_normal, alpha=0.5, label='normal')\n",
    "plt.hist(muestra_uniforme, alpha=0.5, label='uniforme')\n",
    "plt.legend()\n",
    "plt.show()"
   ]
  },
  {
   "cell_type": "code",
   "execution_count": 28,
   "metadata": {},
   "outputs": [
    {
     "name": "stdout",
     "output_type": "stream",
     "text": [
      " ------- CON ANCHO 6 DE BINS -------\n",
      "H(muestra normal) = 2.079\n",
      "H(muestra uniforme) = 2.576\n",
      "\n",
      " ------- CON ANCHO 12 DE BINS -------\n",
      "H(muestra normal) = 2.022\n",
      "H(muestra uniforme) = 2.568\n",
      "\n",
      " ------- CON ANCHO 30 DE BINS -------\n",
      "H(muestra normal) = 2.022\n",
      "H(muestra uniforme) = 2.565\n"
     ]
    }
   ],
   "source": [
    "def marg(x, anch):\n",
    "    \"\"\"Cálculo de marginal. \"\"\"\n",
    "\n",
    "    p_x, bin_edges = np.histogram(x, anch)\n",
    "    p_x = p_x/len(x)\n",
    "    return p_x, bin_edges[1]-bin_edges[0]\n",
    "\n",
    "\n",
    "def h(p_x, anch):\n",
    "    \"\"\"Cálculo de entropía de una variable. \"\"\"\n",
    "    h = 0\n",
    "    for p in p_x:\n",
    "        h -= p*log2(p/anch) #/anch para que de la misma entropia para cualquier ancho de bins\n",
    "\n",
    "    return h\n",
    "\n",
    "print(\" ------- CON ANCHO 6 DE BINS -------\")\n",
    "#normal:\n",
    "marg_n, anch_n = marg(muestra_normal, 6)\n",
    "h_n = h(marg_n, anch_n)\n",
    "print(f'H(muestra normal) = {round(h_n, 3)}')\n",
    "\n",
    "#uniforme\n",
    "marg_u, anch_u = marg(muestra_uniforme, 6)\n",
    "h_u = h(marg_u, anch_u)\n",
    "print(f'H(muestra uniforme) = {round(h_u, 3)}') #obs= tiene sentido que sea más grande porque es más dificil predecir donde cae una muestra\n",
    "\n",
    "\n",
    "print(\"\\n ------- CON ANCHO 12 DE BINS -------\")\n",
    "#normal:\n",
    "marg_n, anch_n = marg(muestra_normal, 12)\n",
    "h_n = h(marg_n, anch_n) \n",
    "print(f'H(muestra normal) = {round(h_n, 3)}')\n",
    "\n",
    "#uniforme\n",
    "marg_u, anch_u = marg(muestra_uniforme, 12)\n",
    "h_u = h(marg_u, anch_u)\n",
    "print(f'H(muestra uniforme) = {round(h_u, 3)}')\n",
    "\n",
    "\n",
    "print(\"\\n ------- CON ANCHO 20 DE BINS -------\")\n",
    "#normal:\n",
    "marg_n, anch_n = marg(muestra_normal, 20)\n",
    "h_n = h(marg_n, anch_n) \n",
    "print(f'H(muestra normal) = {round(h_n, 3)}')\n",
    "\n",
    "#uniforme\n",
    "marg_u, anch_u = marg(muestra_uniforme, 20)\n",
    "h_u = h(marg_u, anch_u)\n",
    "print(f'H(muestra uniforme) = {round(h_u, 3)}')"
   ]
  },
  {
   "cell_type": "markdown",
   "metadata": {},
   "source": [
    "### EJERCICIO 2\n",
    "Estimar la entropía de la U[-3, 3] y de una N(0, 1), sacando muestras de la distribución N(3, 1) \n"
   ]
  },
  {
   "cell_type": "code",
   "execution_count": 9,
   "metadata": {},
   "outputs": [
    {
     "data": {
      "image/png": "[encoded data removed]",
      "text/plain": [
       "<Figure size 432x288 with 1 Axes>"
      ]
     },
     "metadata": {
      "needs_background": "light"
     },
     "output_type": "display_data"
    }
   ],
   "source": [
    "#sampling\n",
    "\n",
    "def proba_norm(esp, var):\n",
    "    def p(x): #normal 2, 1\n",
    "        return (1/(var * np.sqrt(2 * np.pi))) * np.exp(-0.5 * ((x - esp) / var) ** 2)\n",
    "    return p\n",
    "\n",
    "def f(p, x): #normal 0, 1\n",
    "    return -p(x)*np.log2(p(x))\n",
    "\n",
    "\n",
    "cant_bins = 6\n",
    "\n",
    "\n",
    "x2 = np.linspace(-3, 3, 1000)\n",
    "# aux = (np.max(x) -np.min(x))/cant_bins\n",
    "# centros_bins = np.array([ aux/2 + i*aux  for i in range(cant_bins)])\n",
    "p = proba_norm(0, 1)\n",
    "p_x = p(x2)\n",
    "#p_x = marg(x, cant_bins)\n",
    "\n",
    "#h_px = h( marg(p_x, 6))\n",
    "#print(f'Entropía p_x: {h_px}')\n",
    "\n",
    "x = np.random.normal(loc=2, scale=1, size=1000)\n",
    "f_x = f(p, x) \n",
    "# h_fx = h( marg(f_x, 6))\n",
    "# print(f'Entropía f_x: {h_fx}')\n",
    "\n",
    "fp_x = p_x*f_x\n",
    "# h_fpx = h( marg(fp_x, 6))\n",
    "# print(f'Entropía f_x*p_x: {h_fpx}')\n",
    "\n",
    "q = proba_norm(0, 2)\n",
    "q_x = q(x2)\n",
    "\n",
    "def graph_todo(f, p, q, fp, x1, x2):\n",
    "    plt.figure()\n",
    "    plt.scatter(x1, f, label='f(x)')\n",
    "    plt.scatter(x2, p, label='p(x)')\n",
    "    plt.scatter(x2, q, label='q(x)')\n",
    "    plt.scatter(x2, fp, label='f(x)p(x)')\n",
    "    plt.legend()\n",
    "    plt.show()\n",
    "    plt.close()\n",
    "    \n",
    "graph_todo(f_x, p_x, q_x, fp_x, x, x2)\n"
   ]
  },
  {
   "cell_type": "markdown",
   "metadata": {},
   "source": [
    "### EJERCICIO 3\n",
    "Se obtienen las siguientes muestras de dos normales, calcular la primer corrección de la mezcla con el algoritmo EM. Con el algoritmo EM obtener la estimación de los parámetros de las distribuciones."
   ]
  },
  {
   "cell_type": "markdown",
   "metadata": {},
   "source": [
    "### EJERCICIO 4\n",
    "KALMAN"
   ]
  },
  {
   "cell_type": "code",
   "execution_count": 10,
   "metadata": {},
   "outputs": [
    {
     "data": {
      "image/png": "[encoded data removed]",
      "text/plain": [
       "<Figure size 1080x1080 with 1 Axes>"
      ]
     },
     "metadata": {
      "needs_background": "light"
     },
     "output_type": "display_data"
    }
   ],
   "source": [
    "def f(x):\n",
    "    return x**2\n",
    "\n",
    "def muestra_norm(e, s):\n",
    "    muestra = np.random.normal(e, s, 10000)\n",
    "    rango_min = 0\n",
    "    rango_max = 3\n",
    "    muestra_recortada = np.clip(muestra, rango_min, rango_max)\n",
    "    return np.array(muestra_recortada[:1000])\n",
    "\n",
    "def graph_todo(f, p, q, fp, x1, x2):\n",
    "    plt.figure(figsize=(15, 15))\n",
    "    plt.scatter(x1, f, label='f(x)')\n",
    "    plt.scatter(x2, p, label='p(x)')\n",
    "    plt.scatter(x2, q, label='q(x)')\n",
    "    plt.scatter(x2, fp, label='f(x)p(x)')\n",
    "    plt.legend()\n",
    "    plt.show()\n",
    "    plt.close()\n",
    "    \n",
    "\n",
    "#muestra de f(x) con proba p(x)\n",
    "esp_p = 0\n",
    "var_p = 1\n",
    "x1 = muestra_norm(esp_p, var_p) #p(x) - N(0, 1)\n",
    "f_px = f(x1)\n",
    "\n",
    "#p(x)\n",
    "x2 = np.linspace(0, 3, 1000)\n",
    "pdf_p = (1/(var_p * np.sqrt(2 * np.pi))) * np.exp(-0.5 * ((x2 - esp_p) / var_p) ** 2)\n",
    "\n",
    "#f(x)p(x)\n",
    "fp_x = f(x2)*pdf_p\n",
    "\n",
    "#q(x)\n",
    "esp_q = 1.9\n",
    "var_q = 0.75\n",
    "pdf_q = (1/(var_q * np.sqrt(2 * np.pi))) * np.exp(-0.5 * ((x2 - esp_q) / var_q) ** 2)\n",
    "\n",
    "graph_todo(f_px, pdf_p, pdf_q, fp_x, x1, x2)\n",
    "\n",
    "\n",
    "\n"
   ]
  }
 ],
 "metadata": {
  "kernelspec": {
   "display_name": "pensamiento_computacional",
   "language": "python",
   "name": "python3"
  },
  "language_info": {
   "codemirror_mode": {
    "name": "ipython",
    "version": 3
   },
   "file_extension": ".py",
   "mimetype": "text/x-python",
   "name": "python",
   "nbconvert_exporter": "python",
   "pygments_lexer": "ipython3",
   "version": "3.8.12"
  }
 },
 "nbformat": 4,
 "nbformat_minor": 2
}
