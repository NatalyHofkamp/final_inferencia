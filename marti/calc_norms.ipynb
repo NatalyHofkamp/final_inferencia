{
 "cells": [
  {
   "cell_type": "code",
   "execution_count": 27,
   "metadata": {},
   "outputs": [],
   "source": [
    "from scipy.stats import multivariate_normal, norm\n",
    "import numpy as np"
   ]
  },
  {
   "cell_type": "code",
   "execution_count": 28,
   "metadata": {},
   "outputs": [],
   "source": [
    "def norm_1var(x, esp, std):\n",
    "    return norm.pdf(x, loc=esp, scale=std)\n",
    "\n",
    "def norm_2var(x, mu, sigma):\n",
    "    return multivariate_normal.pdf(x, mu, sigma)\n",
    "\n"
   ]
  },
  {
   "cell_type": "code",
   "execution_count": 29,
   "metadata": {},
   "outputs": [
    {
     "name": "stdout",
     "output_type": "stream",
     "text": [
      "N(2, 1), x = 4.2  ---->  0.035474592846231424\n",
      "N(2, 1), x = 2.2  ---->  0.3910426939754559\n"
     ]
    }
   ],
   "source": [
    "#EJ 1 var:\n",
    "# N(2, 4), x = 4.2\n",
    "esp = 2\n",
    "std = 1\n",
    "x = 4.2\n",
    "print(f\"N(2, 1), x = 4.2  ---->  {norm_1var(x, esp, std)}\")\n",
    "\n",
    "print(f\"N(2, 1), x = 2.2  ---->  {norm_1var(2.2, esp, std)}\")"
   ]
  },
  {
   "cell_type": "code",
   "execution_count": 30,
   "metadata": {},
   "outputs": [
    {
     "name": "stdout",
     "output_type": "stream",
     "text": [
      "N([1, 2], [[1, 0], [0, 0.5]]), x = [1.5, 3]  ---->  0.07307247836084615\n"
     ]
    }
   ],
   "source": [
    "#EJ 2 var:\n",
    "# N([1, 2], [[1, 0], [0, 0.5]]), x = [1.5, 3]\n",
    "mu = [1, 2]\n",
    "sigma = [[1, 0], [0, 0.5]]\n",
    "x = [1.5, 3]\n",
    "print(f\"N([1, 2], [[1, 0], [0, 0.5]]), x = [1.5, 3]  ---->  {norm_2var(x, mu, sigma)}\")"
   ]
  },
  {
   "cell_type": "code",
   "execution_count": 31,
   "metadata": {},
   "outputs": [
    {
     "name": "stdout",
     "output_type": "stream",
     "text": [
      "N(6.73, 1.3490737563232043), x = 5.06  ---->  0.13744408454602275\n",
      "N(10.13, 1.4177446878757824), x = 5.06  ---->  0.00047024363483297917\n"
     ]
    }
   ],
   "source": [
    "x = 5.06\n",
    "esp_c1 = 6.73\n",
    "std_c1 = np.sqrt(1.82)\n",
    "print(f\"N({esp_c1}, {std_c1}), x = {x}  ---->  {norm_1var(x, esp_c1, std_c1)}\")\n",
    "\n",
    "esp_c2 = 10.13\n",
    "std_c2 = np.sqrt(2.01)\n",
    "print(f\"N({esp_c2}, {std_c2}), x = {x}  ---->  {norm_1var(x, esp_c2, std_c2)}\")\n",
    "\n"
   ]
  },
  {
   "cell_type": "code",
   "execution_count": 32,
   "metadata": {},
   "outputs": [
    {
     "name": "stdout",
     "output_type": "stream",
     "text": [
      "\n",
      "MUESTRA 1\n",
      "0.9484687338644151\n",
      "0.0515312661355848\n",
      "\n",
      "MUESTRA 2\n",
      "0.0829077903332666\n",
      "0.9170922096667333\n",
      "\n",
      "MUESTRA 3\n",
      "0.4983028022384263\n",
      "0.5016971977615736\n",
      "\n",
      "MUESTRA 4\n",
      "0.001139464329061256\n",
      "0.9988605356709388\n",
      "\n",
      "MUESTRA 5\n",
      "0.9968265347923851\n",
      "0.003173465207614912\n",
      "\n",
      "----------------------------------------------------------\n",
      "\n",
      "MU 1\n",
      "6.533667261586841\n",
      "MU 2\n",
      "10.368741488630764\n",
      "\n",
      "SIGMA 1\n",
      "1.9702532382941031\n",
      "SIGMA 2\n",
      "2.3418176570135745\n",
      "\n",
      "PI 1\n",
      "0.5055290651115109\n",
      "PI 2\n",
      "0.49447093488848914\n"
     ]
    }
   ],
   "source": [
    "muestras = [6.78, 9.78, 8.46, 12.07, 5.06]\n",
    "N = len(muestras)\n",
    "mu = [6.73, 10.13]\n",
    "sigma = [np.sqrt(1.82), np.sqrt(2.01)]\n",
    "pi = [0.518, 0.482]\n",
    "\n",
    "\n",
    "def e_step(i):\n",
    "    a1 = pi[0]*norm_1var(muestras[i], mu[0], sigma[0])\n",
    "    a2 = pi[1]*norm_1var(muestras[i], mu[1], sigma[1])\n",
    "    print(f\"\\nMUESTRA {i+1}\")\n",
    "    g1 = a1/(a1+a2)\n",
    "    g2 = a2/(a1+a2)\n",
    "    print(g1)\n",
    "    print(g2)\n",
    "    return g1, g2\n",
    "\n",
    "\n",
    "\n",
    "def calc_mstep(z1, z2):\n",
    "    N1 = np.sum(np.array(z1))\n",
    "    N2 = np.sum(np.array(z2))\n",
    "\n",
    "\n",
    "    print(f\"\\nMU 1\")\n",
    "    mu_1 = (1/N1)*np.sum(np.array(z1) * np.array(muestras))\n",
    "    print(mu_1)\n",
    "\n",
    "    print(f\"MU 2\")\n",
    "    mu_2 = (1/N2)*np.sum(np.array(z2) * np.array(muestras))\n",
    "    print(mu_2)\n",
    "\n",
    "    print(f\"\\nSIGMA 1\")\n",
    "    sigma_1 = (1/N1)*np.sum(np.array(z1) * (np.array(muestras)-mu_1)**2)\n",
    "    print(sigma_1)\n",
    "\n",
    "    print(f\"SIGMA 2\")\n",
    "    sigma_2 = (1/N2)*np.sum(np.array(z2) * (np.array(muestras)-mu_2)**2)\n",
    "    print(sigma_2)\n",
    "\n",
    "    print(f\"\\nPI 1\")\n",
    "    pi_1 = N1/N\n",
    "    print(pi_1)\n",
    "\n",
    "    print(f\"PI 2\")\n",
    "    pi_2 = N2/N\n",
    "    print(pi_2)\n",
    "\n",
    "gamas1 = []\n",
    "gamas2 = []\n",
    "for i in range(N):\n",
    "    g1, g2 = e_step(i)\n",
    "    gamas1.append(g1)\n",
    "    gamas2.append(g2)\n",
    "print(\"\\n----------------------------------------------------------\")\n",
    "calc_mstep(gamas1, gamas2)\n",
    "\n",
    "    "
   ]
  }
 ],
 "metadata": {
  "kernelspec": {
   "display_name": "pensamiento_computacional",
   "language": "python",
   "name": "python3"
  },
  "language_info": {
   "codemirror_mode": {
    "name": "ipython",
    "version": 3
   },
   "file_extension": ".py",
   "mimetype": "text/x-python",
   "name": "python",
   "nbconvert_exporter": "python",
   "pygments_lexer": "ipython3",
   "version": "3.8.12"
  }
 },
 "nbformat": 4,
 "nbformat_minor": 2
}
