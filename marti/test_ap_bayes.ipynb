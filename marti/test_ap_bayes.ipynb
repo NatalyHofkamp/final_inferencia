{
 "cells": [
  {
   "cell_type": "code",
   "execution_count": 1,
   "metadata": {},
   "outputs": [],
   "source": [
    "from hojas import *\n",
    "from scipy.stats import norm"
   ]
  },
  {
   "cell_type": "code",
   "execution_count": 2,
   "metadata": {},
   "outputs": [],
   "source": [
    "# --------------------- APRENDIZAJE BAYESIANO CON DATA HOJAS / GAUSSIANA MULTIVARIABLE ---------------------\n",
    "def mu_iter(n, muestras, mu_0, sigma_0, sigma):\n",
    "    mu_n = (n*(sigma_0)*(np.sum(muestras)/n)) + (sigma*mu_0)\n",
    "    mu_n /= ((n*(sigma_0))+sigma)\n",
    "    return mu_n\n",
    "\n",
    "def sigma_iter(n, sigma_0, sigma):\n",
    "    sigma_n = sigma_0*sigma\n",
    "    sigma_n /= ((n*(sigma_0))+sigma)\n",
    "    return sigma_n\n",
    "\n",
    "\n",
    "def iter_bayes(muestras, mu_0, sigma_0, sigma):\n",
    "    mu_todos = []\n",
    "    sigma_todos = []\n",
    "    for i in range(1, len(muestras)+1):\n",
    "        mu_n = mu_iter(i, muestras[:i], mu_0, sigma_0, sigma)\n",
    "        mu_todos.append(mu_n)\n",
    "        sigma_n = sigma_iter(i, sigma_0, sigma)\n",
    "        sigma_todos.append(sigma_n)\n",
    "    return mu_n, sigma_n\n",
    "\n",
    "\n",
    "def buscar_mu_con_bayes(muestra, sep=0.7):\n",
    "    muestra = np.random.permutation(muestra) \n",
    "    cant_agarro = int(len(muestra)*sep) # agarro un 70% de las muestras para entrenar y el resto para testear\n",
    "    muestra_est = muestra[:cant_agarro]\n",
    "    muestra_test = muestra[cant_agarro:]\n",
    "    mu_0 = muestra_est[0]\n",
    "    sigma_0 = 10\n",
    "    sigma = np.var(muestra_est)\n",
    "\n",
    "    mu, sigma = iter_bayes(muestra_est, mu_0, sigma_0, sigma)\n",
    "    \n",
    "    return mu, sigma, muestra_test\n"
   ]
  },
  {
   "cell_type": "code",
   "execution_count": 3,
   "metadata": {},
   "outputs": [],
   "source": [
    "# --------------------- TEST APRENDIZAJE BAYESIANO CON DATA HOJAS ---------------------\n",
    "def test_mu(m, mu1, des1, mu2, des2): #True:\n",
    "    \"\"\"\n",
    "    True: pertenece a clase 1\n",
    "    False: pertenece a clase 2\n",
    "    \"\"\"\n",
    "    proba1 = norm.pdf(m, mu1, des1)\n",
    "    proba2 = norm.pdf(m, mu2, des2)\n",
    "    if proba1 >= proba2:\n",
    "        return True\n",
    "    return False\n",
    "\n",
    "# BOOTSTRAPPING\n",
    "def test_muestras(muestra1, muestra2):\n",
    "    mu1, sigma1, muestra_test1 = buscar_mu_con_bayes(muestra1)\n",
    "    mu2, sigma2, muestra_test2 = buscar_mu_con_bayes(muestra2)\n",
    "\n",
    "    des1 = np.sqrt(sigma1)\n",
    "    des2 = np.sqrt(sigma2)\n",
    "\n",
    "    #buscar a cuantos separa mal la estimación conseguida\n",
    "    m1_mal = 0\n",
    "    for m in muestra_test1:\n",
    "        if not test_mu(m, mu1, des1, mu2, des2):\n",
    "            m1_mal += 1\n",
    "\n",
    "    m2_mal = 0\n",
    "    for m in muestra_test2:\n",
    "        if test_mu(m, mu1, des1, mu2, des2):\n",
    "            m2_mal += 1\n",
    "\n",
    "    return m1_mal/len(muestra_test1),  m2_mal/len(muestra_test2) #erró sobre total\n"
   ]
  },
  {
   "cell_type": "code",
   "execution_count": 4,
   "metadata": {},
   "outputs": [
    {
     "name": "stdout",
     "output_type": "stream",
     "text": [
      "------------ CLASE 1 ------------\n",
      "Acertó de largo clase 1 = 0.74\n",
      "Acertó de largo clase 2 = 0.791\n",
      "Performance de largos total = 0.761\n",
      "\n",
      "------------ CLASE 2 ------------\n",
      "Acertó de ancho clase 1 = 0.67\n",
      "Acertó de ancho clase 2 = 0.836\n",
      "Performance de anchos total = 0.738\n"
     ]
    }
   ],
   "source": [
    "# ------ TEST MUESTRAS BIEN CLASIFICADAS LARGOS ------\n",
    "error1, error2 = test_muestras(c1['largo'], c2['largo'])\n",
    "print('------------ CLASE 1 ------------')\n",
    "print(f'Acertó de largo clase 1 = {round(1-error1, 3)}') #acertó sobre total\n",
    "print(f'Acertó de largo clase 2 = {round(1-error2, 3)}')\n",
    "\n",
    "# ------ VER TOTAL DE MUESTRAS BIEN LARGOS ------\n",
    "p_largo1 = 0.59 #proba de que la muestra sea de clase 1, son 332 de 554\n",
    "p_largo2 = 0.41 #proba de que la muestra sea de clase 2, son 222 de 554\n",
    "performance_largo = p_largo1*(1-error1) + p_largo2*(1-error2)\n",
    "print(f'Performance de largos total = {round(performance_largo, 3)}')\n",
    "\n",
    "\n",
    "# ------ TEST MUESTRAS BIEN CLASIFICADAS ANCHOS ------\n",
    "print('\\n------------ CLASE 2 ------------')\n",
    "error1, error2 = test_muestras(c1['ancho'], c2['ancho'])\n",
    "print(f'Acertó de ancho clase 1 = {round(1-error1, 3)}')\n",
    "print(f'Acertó de ancho clase 2 = {round(1-error2, 3)}')\n",
    "\n",
    "# ------ VER TOTAL DE MUESTRAS BIEN ANCHOS ------\n",
    "p_ancho1 = 0.59\n",
    "p_ancho2 = 0.41\n",
    "performance_largo = p_ancho1*(1-error1) + p_ancho2*(1-error2)\n",
    "print(f'Performance de anchos total = {round(performance_largo, 3)}')\n",
    "\n"
   ]
  },
  {
   "cell_type": "code",
   "execution_count": 6,
   "metadata": {},
   "outputs": [
    {
     "name": "stdout",
     "output_type": "stream",
     "text": [
      "\n",
      " ------------ TEST PERFORMANCE LARGOS ------------\n"
     ]
    },
    {
     "name": "stdout",
     "output_type": "stream",
     "text": [
      "Performance largo1 = 0.7563 +- 0.012834757496735188\n",
      "Performance largo2 = 0.7944776119402985 +- 0.014560541068382534\n",
      "Promedio perfo = 0.7719528208955224\n",
      "Desv estandar perfo = 0.026358744477323028\n",
      "Performance largo = 0.7719528208955224 +- 0.026358744477323028\n",
      "\n",
      " ------------ TEST PERFORMANCE ANCHOS ------------\n",
      "Performance ancho1 = 0.6577999999999998 +- 0.012857526978388958\n",
      "Performance ancho2 = 0.7658208955223881 +- 0.015098916444240417\n",
      "Promedio perfo = 0.7020885671641791\n",
      "Desv estandar perfo = 0.030431411304688086\n",
      "Performance ancho = 0.7020885671641791 +- 0.030431411304688086\n"
     ]
    }
   ],
   "source": [
    "# ------ TEST PERFORMANCE ------\n",
    "def perfo(p_c1, p_c2, err1, err2):\n",
    "    perform = p_c1*(1-err1) + p_c2*(1-err2)\n",
    "    return perform \n",
    "\n",
    "def test_performance(muestra1, muestra2, p1, p2, name):\n",
    "    performs = []\n",
    "    perfo1 = []\n",
    "    perfo2 = []\n",
    "    for _ in range(100):\n",
    "        err1, err2 = test_muestras(muestra1, muestra2)\n",
    "        performs.append(perfo(p1, p2, err1, err2))\n",
    "        perfo1.append(1-err1)\n",
    "        perfo2.append(1-err2)\n",
    "\n",
    "    print(f'Performance {name}1 = {np.mean(perfo1)} +- {np.sqrt(np.var(perfo1))/(np.sqrt(10))}') # /sqrt(10) para que sea error estandar\n",
    "    print(f'Performance {name}2 = {np.mean(perfo2)} +- {np.sqrt(np.var(perfo2))/(np.sqrt(10))}')\n",
    "\n",
    "    print(f'Promedio perfo = {np.mean(performs)}')\n",
    "    print(f'Desv estandar perfo = {np.std(performs)}')\n",
    "    print(f'Performance {name} = {np.mean(performs)} +- {np.sqrt(np.var(performs))}')\n",
    "\n",
    "print('\\n ------------ TEST PERFORMANCE LARGOS ------------')\n",
    "test_performance(c1['largo'], c2['largo'], p_largo1, p_largo2, 'largo')\n",
    "\n",
    "print('\\n ------------ TEST PERFORMANCE ANCHOS ------------')\n",
    "test_performance(c1['ancho'], c2['ancho'], p_ancho1, p_ancho2, 'ancho')\n"
   ]
  },
  {
   "cell_type": "code",
   "execution_count": null,
   "metadata": {},
   "outputs": [
    {
     "name": "stdout",
     "output_type": "stream",
     "text": [
      "\n",
      " ------------ TEST2 PERFORMANCE LARGOS ------------\n"
     ]
    },
    {
     "name": "stdout",
     "output_type": "stream",
     "text": [
      "Performance largo1 = 0.7857142857142858 +- 0.058028845747399714\n",
      "Performance largo2 = 0.7285714285714286 +- 0.05872801368884134\n",
      "Performance largo = 0.7622857142857142 +- 0.04244189305054954\n",
      "\n",
      " ------------ TEST2 PERFORMANCE ANCHOS ------------\n",
      "Performance ancho1 = 0.5857142857142856 +- 0.08439460278709675\n",
      "Performance ancho2 = 0.8 +- 0.05421047417431507\n",
      "Performance ancho = 0.6735714285714285 +- 0.05752417415526188\n"
     ]
    }
   ],
   "source": [
    "# ------ TEST PERFORMANCE DE OTRA MANERA, POR LOTES ------\n",
    "def test2_perfo(muestra1, muestra2, p1, p2, name):\n",
    "    divido_en = 22\n",
    "    perfors = []\n",
    "    perfo1 = []\n",
    "    perfo2 = []\n",
    "    for i in range(10):\n",
    "        err1, err2 = test_muestras(muestra1[i*divido_en:(i+1)*divido_en], muestra2[i*divido_en:(i+1)*divido_en])\n",
    "        perfors.append(perfo(p1, p2, err1, err2))\n",
    "        perfo1.append(1-err1)\n",
    "        perfo2.append(1-err2)\n",
    "\n",
    "    print(f'Performance {name}1 = {np.mean(perfo1)} +- {np.sqrt(np.var(perfo1))/(np.sqrt(10))}')\n",
    "    print(f'Performance {name}2 = {np.mean(perfo2)} +- {np.sqrt(np.var(perfo2))/(np.sqrt(10))}')\n",
    "    print(f'Performance {name} = {np.mean(perfors)} +- {np.sqrt(np.var(perfors))/(np.sqrt(10))}')#/raiz(10) para tener el error estandar, \n",
    "    #funciona solo porque los lotes son indeo entre sí, si son dependientes (por ej se repiten entre lotes) el error est tiene mult la raiz, no dividida\n",
    "    #EJ = si agarramos una muestra para test y el resto para estimar, y así con cada muestra, el error despues sería con la raiz(N-1) multiplicada\n",
    "\n",
    "'''\n",
    "OBS = la media (osea la performance) nos dice que tan superpuestas están las campanas, porque si tenes una media de 0,5 por ejemplo, \n",
    "implica que la mitad de las vece encuentra bien su distribución y la otra mitad no\n",
    "Además, el desv estandar te dice si esa media es significativa, es decir, si te da media 0,7 y desv est bajo por\n",
    "lo que la gaussiana que la describe no supera el 0,5 --> tu media es así porque tu datos están cercanos a ese valor, no porque\n",
    "algunos dieron muy alto y otros muy bajo. En cambio, si este es muy alto varía mucho.\n",
    "'''\n",
    "\n",
    "print('\\n ------------ TEST2 PERFORMANCE LARGOS ------------')\n",
    "test2_perfo(c1['largo'][:len(c2['largo'])], c2['largo'], p_largo1, p_largo2, 'largo')\n",
    "\n",
    "print('\\n ------------ TEST2 PERFORMANCE ANCHOS ------------')\n",
    "test2_perfo(c1['ancho'][:len(c2['largo'])], c2['ancho'], p_ancho1, p_ancho2, 'ancho')\n",
    "    "
   ]
  },
  {
   "cell_type": "code",
   "execution_count": null,
   "metadata": {},
   "outputs": [],
   "source": [
    "# # ------ GRAFICAR CURVAS DE NIVEL ------\n",
    "# # Clase 1\n",
    "# mean = np.array([esp_largo_c1, esp_ancho_c1])\n",
    "# cov = np.array([[var_largo_c1, cov_clase1], [cov_clase1, var_ancho_c1]])  # Matriz de covarianza\n",
    "# # Clase 2\n",
    "# mean = np.array([esp_largo_c2, esp_ancho_c2])\n",
    "# cov = np.array([[var_largo_c2, cov_clase2], [cov_clase2, var_ancho_c2]])  # Matriz de covarianza\n",
    "\n",
    "# # Generar datos para el gráfico de curvas de nivel\n",
    "# x, y = np.mgrid[np.min(c1['largo']):np.max(c1['largo']):.01, np.min(c1['ancho']):np.max(c1['ancho']):.01]\n",
    "# pos = np.dstack((x, y))\n",
    "# z = np.random.multivariate_normal(mean, cov, 5000).T\n",
    "\n",
    "# # Graficar las curvas de nivel\n",
    "# plt.figure(figsize=(8, 6))\n",
    "# plt.contourf(x, y, np.exp(-(z @ np.linalg.inv(cov) @ z.T).diagonal()/2), cmap='viridis')\n",
    "# plt.colorbar()\n",
    "# plt.xlabel('X')\n",
    "# plt.ylabel('Y')\n",
    "# plt.title('Curvas de nivel de una distribución gaussiana de dos variables')\n",
    "# plt.show()"
   ]
  }
 ],
 "metadata": {
  "kernelspec": {
   "display_name": "pensamiento_computacional",
   "language": "python",
   "name": "python3"
  },
  "language_info": {
   "codemirror_mode": {
    "name": "ipython",
    "version": 3
   },
   "file_extension": ".py",
   "mimetype": "text/x-python",
   "name": "python",
   "nbconvert_exporter": "python",
   "pygments_lexer": "ipython3",
   "version": "3.8.12"
  }
 },
 "nbformat": 4,
 "nbformat_minor": 2
}
