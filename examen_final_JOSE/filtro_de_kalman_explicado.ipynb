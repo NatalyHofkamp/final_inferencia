{
 "cells": [
  {
   "cell_type": "code",
   "execution_count": 1,
   "metadata": {},
   "outputs": [],
   "source": [
    "import numpy as np\n",
    "import matplotlib.pyplot as plt"
   ]
  },
  {
   "cell_type": "code",
   "execution_count": null,
   "metadata": {},
   "outputs": [],
   "source": [
    "dt = 0.2                        # Cada cuantos segundos samplea el sensor\n",
    "N_samples = 100                 # Cuantos sampleos queremos observar el sistema\n",
    "\n",
    "tiempo = np.array([dt*i for i in range(N_samples)]) # No hace falta para Kalman, es para graficar (A Kalman solo le importa el cambio de tiempo entre cada medición/estimación. Eso ya es \"dt\")\n",
    "Zsaved = np.zeros((N_samples,1))                    # Aca se van a ir guardando las mediciones crudas, para poder graficarlas nomas.\n",
    "Xsaved = np.zeros((N_samples,2))                    # Aca se van a ir guardando las estimaciones de Kalman (despues de cada medición) de posición y de velocidad"
   ]
  },
  {
   "cell_type": "code",
   "execution_count": null,
   "metadata": {},
   "outputs": [],
   "source": [
    "# Estado real del auto. Esto no lo sabemos\n",
    "x_pos_inicial=0         # Solo estamos midiendo 1 dimension. Distancia en un eje.\n",
    "x_vel=1                 # Solo estamos midiendo 1 dimension. Velocidad en ese eje.\n",
    "ruido_proceso = 0.2     # Ruido de la posición del auto. Tiene velocidad constante en el largo plazo, pero por terreno imperfecto aveces se adelanta o atrasa un poco\n",
    "ruido_gps = 1\n",
    "x = np.array([[x_vel * t + np.random.normal(0, ruido_proceso), x_vel] for t in range(N_samples)]) "
   ]
  },
  {
   "cell_type": "code",
   "execution_count": null,
   "metadata": {},
   "outputs": [],
   "source": [
    "def get_medicion1(k):                       # El sensor que usas para medir posición del auto\n",
    "    return x[k] + np.random.normal(0, ruido_gps)    # Toma la posicion real del auto en momento k y agrega ruido porque no mide perfectamente"
   ]
  },
  {
   "cell_type": "code",
   "execution_count": null,
   "metadata": {},
   "outputs": [],
   "source": [
    "def kalman_filter(estado_inicial, matriz_covarianza_inicial, ruido_proceso_pos, ruido_proceso_vel, varianza_mediciones):\n",
    "    \n",
    "    \n",
    "    while True:\n",
    "        # Initial prediction step\n",
    "        x_hat_predicción_lineal = np.dot(F, x_hat)\n",
    "        P_minus = np.dot(np.dot(F, P), F.T) + Q\n",
    "\n",
    "        # Estimation step\n",
    "        K = np.dot(np.dot(P_minus, H.T), np.linalg.inv(np.dot(np.dot(H, P_minus), H.T) + R))\n",
    "        z = yield x_hat_predicción_lineal[0]  # (yield es como return pero la prox que llamas la funcion arranca desde aca, entonces se acuerda de todas las variables)\n",
    "\n",
    "        x_hat = x_hat_predicción_lineal + np.dot(K, (z - np.dot(H, x_hat_predicción_lineal)))\n",
    "        P = np.dot((np.eye(2) - np.dot(K, H)), P_minus)\n",
    "\n",
    "\n",
    "def kalman_filter_one_step(x_hat_previo, P, F, H, Q, R, medición):\n",
    "    \n",
    "    # Step 1: predicción preliminar de posición y velocidad según modelo lineal.\n",
    "    x_hat_minus = np.dot(F, x_hat_previo)\n",
    "    P_minus = np.dot(np.dot(F, P), F.T) + Q\n",
    "\n",
    "    # Step 2: Estimar posición y velocidad\n",
    "    K = np.dot(np.dot(P_minus, H.T), np.linalg.inv(np.dot(np.dot(H, P_minus), H.T) + R))\n",
    "    x_hat = x_hat_minus + np.dot(K, (medición - np.dot(H, x_hat_minus)))\n",
    "    P = np.dot((np.eye(2) - np.dot(K, H)), P_minus)\n",
    "\n",
    "    return x_hat, P"
   ]
  },
  {
   "cell_type": "code",
   "execution_count": null,
   "metadata": {},
   "outputs": [],
   "source": [
    "x_hat_inicial = np.array([x_pos_inicial,x_vel]) # Una primera 'estimacion' de [posición,velocidad]. Si sabes la posición y velocidad inicial del auto metes eso, sino tenes que tirarle a pegar, y Kalman va funcionar igual porque se va ir ajustando a las mediciones.\n",
    "\n",
    "P = np.eye(2)                                   # Matriz de covarianza inicial (le tiras a pegar, corresponde a la incerteza que tenes sobre tus estimaciones creo)\n",
    "\n",
    "F = np.array([[1, dt],                          # Matriz de transición de estados (supone velocidad constante). Significa que predecis linealmente. posición_nueva = 1*posicion_anterior + (cambio_de_tiempo * velocidad_anterior) , velocidad_nueva = 0*posición_anterior + 1*velocidad_anterior\n",
    "              [0, 1 ]])\n",
    "\n",
    "H = np.array([[1, 0]])                          # \"Matriz de observación\" ([1, 0] significa que solo tenes mediciones de posición, no de velocidad)\n",
    "\n",
    "ruido_proceso_pos = 0.2\n",
    "ruido_proceso_vel = 0\n",
    "Q = np.array([[ruido_proceso_pos, 0],           # \"Process noise covariance matrix\": corresponde a lo que pensas que es el ruido real de nuestro sistema en la posición y velocidad del auto (Si lo sabes genial, sino predecis)\n",
    "              [0, ruido_proceso_vel]])\n",
    "\n",
    "R = np.array([1])                               # \"Measurement noise covariance matrix\": Ruido de las mediciones, en nuestro caso solo medimos posición, es un escalar no matriz.\n",
    "\n",
    "\n",
    "# Finalmente las estimaciones paso a paso del KF, segun las mediciones en cada paso.\n",
    "for i in range(N_samples):\n",
    "    medición = get_medicion1(i)\n",
    "    Zsaved[i] = medición\n",
    "\n",
    "    if i==0:\n",
    "        Xsaved[i] = kalman_filter_one_step(x_hat_inicial, P, F, H, Q, R, medición)\n",
    "    else:\n",
    "        Xsaved[i] = kalman_filter_one_step(Xsaved[i-1], P, F, H, Q, R, medición)"
   ]
  }
 ],
 "metadata": {
  "kernelspec": {
   "display_name": ".venv",
   "language": "python",
   "name": "python3"
  },
  "language_info": {
   "codemirror_mode": {
    "name": "ipython",
    "version": 3
   },
   "file_extension": ".py",
   "mimetype": "text/x-python",
   "name": "python",
   "nbconvert_exporter": "python",
   "pygments_lexer": "ipython3",
   "version": "3.11.5"
  }
 },
 "nbformat": 4,
 "nbformat_minor": 2
}
