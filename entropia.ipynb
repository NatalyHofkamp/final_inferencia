{
 "cells": [
  {
   "cell_type": "code",
   "execution_count": 32,
   "metadata": {},
   "outputs": [],
   "source": [
    "import numpy as np\n",
    "import matplotlib.pyplot as plt"
   ]
  },
  {
   "cell_type": "markdown",
   "metadata": {},
   "source": [
    "Entropía para una variable.\n"
   ]
  },
  {
   "cell_type": "code",
   "execution_count": 33,
   "metadata": {},
   "outputs": [],
   "source": [
    "\n",
    "def entropia (marg,ancho_bin):\n",
    "    h = 0\n",
    "    for p in marg:\n",
    "        if p!= 0:\n",
    "            h+=p*np.log2(p/ancho_bin)\n",
    "    return -h\n",
    "\n",
    "def entropia_conjunta(p,ancho_bin_x,ancho_bin_y):\n",
    "    h = 0\n",
    "    for x in p :\n",
    "        for y in x:\n",
    "            if y != 0:\n",
    "              h-= y*np.log2(y/(ancho_bin_x*ancho_bin_y))\n",
    "    return h"
   ]
  },
  {
   "cell_type": "markdown",
   "metadata": {},
   "source": [
    "Calcular la función densidad marginal, una y dos variables, y calcular su entropía"
   ]
  },
  {
   "cell_type": "markdown",
   "metadata": {},
   "source": [
    "Una variable"
   ]
  },
  {
   "cell_type": "code",
   "execution_count": 34,
   "metadata": {},
   "outputs": [],
   "source": [
    "def get_density(X, n_bins):\n",
    "    hist, bin_edges = np.histogram(X, bins=n_bins)\n",
    "    ancho_bin = bin_edges[1] - bin_edges[0]\n",
    "    x = (hist/np.sum(hist)) \n",
    "    return x,ancho_bin\n",
    "\n"
   ]
  },
  {
   "cell_type": "markdown",
   "metadata": {},
   "source": [
    "Densidad conjunta"
   ]
  },
  {
   "cell_type": "code",
   "execution_count": 35,
   "metadata": {},
   "outputs": [],
   "source": [
    "def get_conju_marg(ancho,largo,bins):\n",
    "    H, x_edges, y_edges = np.histogram2d(ancho,largo, bins=(bins, bins), range=((min(ancho), max(ancho)),(min(largo), max(largo))))\n",
    "    p_conju = H/np.sum(H)\n",
    "    margi_A= np.sum(H, axis=0)\n",
    "    p_A = margi_A/np.sum(H)\n",
    "    margi_L = np.sum(H,axis = 1)\n",
    "    p_L = margi_L/np.sum(H)\n",
    "    ancho_bin_x = x_edges[1]-x_edges[0]\n",
    "    ancho_bin_y = y_edges[1]-y_edges[0]\n",
    "    return H,p_conju,p_A,p_L,margi_A,margi_L,ancho_bin_x,ancho_bin_y\n",
    "    "
   ]
  },
  {
   "cell_type": "markdown",
   "metadata": {},
   "source": [
    "→ Consigna: estimar la entropía de una uniforme (-3,3) y normal(0,1)"
   ]
  },
  {
   "cell_type": "code",
   "execution_count": 36,
   "metadata": {},
   "outputs": [],
   "source": [
    "N = 2000\n",
    "bins = 6\n",
    "muestrasUniformes = np.random.uniform(-3,3,N)\n",
    "muestrasNormales = np.random.normal(0,1,N)\n"
   ]
  },
  {
   "cell_type": "markdown",
   "metadata": {},
   "source": [
    "ver los histogramas"
   ]
  },
  {
   "cell_type": "code",
   "execution_count": 37,
   "metadata": {},
   "outputs": [
    {
     "data": {
      "image/png": "[encoded data removed]",
      "text/plain": [
       "<Figure size 640x480 with 1 Axes>"
      ]
     },
     "metadata": {},
     "output_type": "display_data"
    }
   ],
   "source": [
    "plt.hist(muestrasUniformes, bins=bins, alpha=0.5, label='Uniformes')\n",
    "plt.hist(muestrasNormales, bins=bins, alpha=0.5, label='Normales')\n",
    "plt.legend()\n",
    "plt.show()"
   ]
  },
  {
   "cell_type": "markdown",
   "metadata": {},
   "source": [
    "Calculo las entropias de cada muestra"
   ]
  },
  {
   "cell_type": "code",
   "execution_count": 38,
   "metadata": {},
   "outputs": [
    {
     "name": "stdout",
     "output_type": "stream",
     "text": [
      "Entropia de la muestra uniforme:  2.5836263891247775\n",
      "Entropia de la muestra normal:  1.9820185329273305\n"
     ]
    }
   ],
   "source": [
    "#calculo la entropia de ambas muestras\n",
    "\n",
    "D_uni,ancho_bins_u = get_density(muestrasUniformes, bins)\n",
    "D_norm,ancho_bins_n = get_density(muestrasNormales, 100)\n",
    "entro_uni = entropia(D_uni,ancho_bins_u)\n",
    "entro_norm = entropia (D_norm,ancho_bins_n)\n",
    "\n",
    "print(\"Entropia de la muestra uniforme: \",entro_uni)\n",
    "print(\"Entropia de la muestra normal: \",entro_norm)"
   ]
  },
  {
   "cell_type": "markdown",
   "metadata": {},
   "source": [
    "***INFORMACIÓN MUTUA***"
   ]
  },
  {
   "cell_type": "code",
   "execution_count": 39,
   "metadata": {},
   "outputs": [],
   "source": [
    "def mutual_info(p_conju, p_A, p_L,n_bins):\n",
    "    suma = 0\n",
    "    for x in range(n_bins):\n",
    "        for y in range(n_bins):\n",
    "            if p_conju[x,y] >0: \n",
    "                suma += p_conju[x,y] * np.log2(p_conju[x,y] / (p_A[y]*p_L[x])) \n",
    "    return suma"
   ]
  },
  {
   "cell_type": "markdown",
   "metadata": {},
   "source": [
    "Para calcular la entropía conjunta entre dos variables"
   ]
  },
  {
   "cell_type": "code",
   "execution_count": 40,
   "metadata": {},
   "outputs": [],
   "source": [
    "def charge_data(cant_dat,filename):\n",
    "    with open (filename,'r') as f:\n",
    "        lineas = f.readlines()\n",
    "        for l in lineas:\n",
    "            l= l.strip().split(',')\n",
    "            for data_type in cant_dat:\n",
    "                if l[0] == data_type:\n",
    "                    cant_dat[data_type][0].append(int(l[1]))\n",
    "                    cant_dat[data_type][1].append(int(l[2]))\n",
    "                    \n",
    "data = {'C1':[[],[]],'C2':[[],[]]} \n",
    "charge_data(data,'datos.csv')\n",
    "\n",
    "\n",
    "n_bins = 5\n",
    "H1,conj1,p_a1,p_l1,mg_a1,mg_l1,ancho_bin_x1,ancho_bin_y2 = get_conju_marg(data['C1'][0],data['C1'][1],n_bins)\n",
    "H2,conj2,p_a2,p_l2,mg_a2,mg_l2,ancho_bin_x,ancho_bin_y= get_conju_marg(data['C2'][0],data['C2'][1],n_bins)\n",
    "min_length = min(len(data['C1'][0]), len(data['C2'][0]))\n",
    "H3,conj1_2A,p_A1,p_A2,mg_A1,mg_A2,ancho_bin_x,ancho_bin_y= get_conju_marg(data['C1'][1][:min_length],data['C2'][1][:min_length],n_bins)\n",
    "H4,conj1_2L,p_L1,p_L2,mg_L1,mg_L2,ancho_bin_x,ancho_bin_y = get_conju_marg(data['C1'][0][:min_length],data['C2'][0][:min_length],n_bins)\n"
   ]
  },
  {
   "cell_type": "code",
   "execution_count": 41,
   "metadata": {},
   "outputs": [
    {
     "name": "stdout",
     "output_type": "stream",
     "text": [
      "I(A1||L1)→ 0.5300\n",
      "I(A1||A2)→ 0.0796\n",
      "I(L1||L2)→ 0.0459\n"
     ]
    }
   ],
   "source": [
    "print (f\"I(A1||L1)→ {mutual_info(conj1,p_a1,p_l1,n_bins):.4f}\")\n",
    "print (f\"I(A1||A2)→ {mutual_info(conj1_2A,p_A1,p_A2,n_bins):.4f}\")\n",
    "print (f\"I(L1||L2)→ {mutual_info(conj1_2L,p_L1,p_L2,n_bins):.4f}\")"
   ]
  }
 ],
 "metadata": {
  "kernelspec": {
   "display_name": "Python 3.8.10 64-bit",
   "language": "python",
   "name": "python3"
  },
  "language_info": {
   "codemirror_mode": {
    "name": "ipython",
    "version": 3
   },
   "file_extension": ".py",
   "mimetype": "text/x-python",
   "name": "python",
   "nbconvert_exporter": "python",
   "pygments_lexer": "ipython3",
   "version": "3.8.10"
  },
  "orig_nbformat": 4,
  "vscode": {
   "interpreter": {
    "hash": "916dbcbb3f70747c44a77c7bcd40155683ae19c65e1c03b4aa3499c5328201f1"
   }
  }
 },
 "nbformat": 4,
 "nbformat_minor": 2
}
